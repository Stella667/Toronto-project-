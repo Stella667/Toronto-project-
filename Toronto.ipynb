{
 "cells": [
  {
   "cell_type": "code",
   "execution_count": 11,
   "metadata": {},
   "outputs": [],
   "source": [
    "import pandas as pd \n",
    "import numpy as np \n",
    "import requests"
   ]
  },
  {
   "cell_type": "code",
   "execution_count": 12,
   "metadata": {},
   "outputs": [],
   "source": [
    "from bs4 import BeautifulSoup"
   ]
  },
  {
   "cell_type": "code",
   "execution_count": 13,
   "metadata": {},
   "outputs": [],
   "source": [
    "source=requests.get('https://en.wikipedia.org/wiki/List_of_postal_codes_of_Canada:_M').text\n",
    "soup=BeautifulSoup(source, 'html5lib')"
   ]
  },
  {
   "cell_type": "code",
   "execution_count": 14,
   "metadata": {},
   "outputs": [
    {
     "output_type": "execute_result",
     "data": {
      "text/plain": [
       "Empty DataFrame\n",
       "Columns: [PostalCode, Borough, Neighborhood]\n",
       "Index: []"
      ],
      "text/html": "<div>\n<style scoped>\n    .dataframe tbody tr th:only-of-type {\n        vertical-align: middle;\n    }\n\n    .dataframe tbody tr th {\n        vertical-align: top;\n    }\n\n    .dataframe thead th {\n        text-align: right;\n    }\n</style>\n<table border=\"1\" class=\"dataframe\">\n  <thead>\n    <tr style=\"text-align: right;\">\n      <th></th>\n      <th>PostalCode</th>\n      <th>Borough</th>\n      <th>Neighborhood</th>\n    </tr>\n  </thead>\n  <tbody>\n  </tbody>\n</table>\n</div>"
     },
     "metadata": {},
     "execution_count": 14
    }
   ],
   "source": [
    "postal_codes_dict={}\n",
    "for table_cell in soup.find_all('td'):\n",
    "    try:\n",
    "        postal_code=table_cell.p.b.text\n",
    "        postal_code_investigate=table_cell.span.text\n",
    "        neighborhoods_data=table_cell.span.text\n",
    "        borough=neighborhoods_data.split('(')[0]\n",
    "        #if the cell is not assigned ignore it\n",
    "        if neighborhoods_data== 'Not assigned':\n",
    "            neighborhoods=[]\n",
    "            #else process the data and add it to the dictionary\n",
    "        else:\n",
    "            postal_codes_dict[postal_code]={}\n",
    "            try:\n",
    "                neighborhoods=neighborhoods_data.split('(')[1]\n",
    "                #remove parenthesis from neighborhoods string\n",
    "                neighborhoods=neighborhoods.replace('(', ' ')\n",
    "                neighborhoods=neighborhoods.replace(')',' ')\n",
    "                neighborhoods_names=neighborhoods.split('/') \n",
    "                neighborhoods_clean=','.join([name.strip() for name in neighborhoods_names])  \n",
    "            except:  \n",
    "                borough=borough.strip('\\n') \n",
    "                neighborhoods_clean=borough\n",
    "                #add borough and neighborhood to the dictionary\n",
    "            postal_codes_dict[postal_code]['borough']=borough\n",
    "            postal_codes_dict[postal_code]['neighborhoods']=neighborhoods_clean\n",
    "    except:\n",
    "        pass\n",
    "#create an empty daraframe\n",
    "columns=['PostalCode','Borough','Neighborhood']\n",
    "toronto_data=pd.DataFrame(columns=columns) \n",
    "toronto_data\n",
    "#poopulate dataframe with data from the dictionary\n",
    "for ind,postal_code in enumerate(postal_codes_dict):\n",
    "    borough=postal_codes_dict[postal_code]['borough']\n",
    "    neighborhood=postal_codes_dict[postal_code]['neighborhoods']\n",
    "    toronto_data=toronto_data.append({'PostalCode':postal_code,'Borough':borough, 'Neighborhood':neighborhood},         ignore_index=True)\n",
    "#print number of rows of dataframe\n",
    "toronto_data.head()                      "
   ]
  },
  {
   "cell_type": "code",
   "execution_count": null,
   "metadata": {},
   "outputs": [],
   "source": []
  }
 ],
 "metadata": {
  "kernelspec": {
   "display_name": "Python 3",
   "language": "python",
   "name": "python3"
  },
  "language_info": {
   "codemirror_mode": {
    "name": "ipython",
    "version": 3
   },
   "file_extension": ".py",
   "mimetype": "text/x-python",
   "name": "python",
   "nbconvert_exporter": "python",
   "pygments_lexer": "ipython3",
   "version": "3.8.3-final"
  }
 },
 "nbformat": 4,
 "nbformat_minor": 4
}