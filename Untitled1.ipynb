{
 "cells": [
  {
   "cell_type": "code",
   "execution_count": 5,
   "metadata": {},
   "outputs": [],
   "source": [
    "import librosa\n",
    "import matplotlib as mpl\n",
    "import matplotlib.pyplot\n",
    "import pandas as pd\n",
    "import os"
   ]
  },
  {
   "cell_type": "code",
   "execution_count": 6,
   "metadata": {},
   "outputs": [
    {
     "name": "stdout",
     "output_type": "stream",
     "text": [
      "['.bash_history', '.cisco', '.conda', '.designer', '.gitconfig', '.idlerc', '.ipynb_checkpoints', '.ipython', '.jupyter', '.matplotlib', '.PyCharmCE2019.2', '.vscode', '3D Objects', 'anaconda3', 'Anwendungsdaten', 'AppData', 'Contacts', 'Cookies', 'Desktop', 'Documents', 'Downloads', 'Druckumgebung', 'Eigene Dateien', 'Favorites', 'HP', 'img_data', 'IntelGraphicsProfiles', 'lfs', 'Links', 'Lokale Einstellungen', 'MicrosoftEdgeBackups', 'MUGGE', 'Music', 'Netzwerkumgebung', 'NTUSER.DAT', 'ntuser.dat.LOG1', 'ntuser.dat.LOG2', 'NTUSER.DAT{03046c76-e593-11e9-b864-10f005a559af}.TM.blf', 'NTUSER.DAT{03046c76-e593-11e9-b864-10f005a559af}.TMContainer00000000000000000001.regtrans-ms', 'NTUSER.DAT{03046c76-e593-11e9-b864-10f005a559af}.TMContainer00000000000000000002.regtrans-ms', 'ntuser.ini', 'OneDrive', 'Pictures', 'PycharmProjects', 'Recent', 'Roaming', 'Saved Games', 'Searches', 'SendTo', 'Startmenü', 'Untitled.ipynb', 'Untitled1.ipynb', 'Videos', 'Vorlagen']\n"
     ]
    }
   ],
   "source": [
    "os.getcwd()\n",
    "print(os.listdir())"
   ]
  },
  {
   "cell_type": "code",
   "execution_count": 10,
   "metadata": {},
   "outputs": [
    {
     "name": "stdout",
     "output_type": "stream",
     "text": [
      "C:\\Users\\stell\\dataset\n"
     ]
    }
   ],
   "source": [
    "path=os.getcwd()\n",
    "file_name='dataset'\n",
    "new_path=os.path.join(path,file_name)\n",
    "print(new_path)\n"
   ]
  },
  {
   "cell_type": "code",
   "execution_count": 11,
   "metadata": {},
   "outputs": [
    {
     "data": {
      "text/plain": [
       "['.bash_history',\n",
       " '.cisco',\n",
       " '.conda',\n",
       " '.designer',\n",
       " '.gitconfig',\n",
       " '.idlerc',\n",
       " '.ipynb_checkpoints',\n",
       " '.ipython',\n",
       " '.jupyter',\n",
       " '.matplotlib',\n",
       " '.PyCharmCE2019.2',\n",
       " '.vscode',\n",
       " '3D Objects',\n",
       " 'anaconda3',\n",
       " 'Anwendungsdaten',\n",
       " 'AppData',\n",
       " 'Contacts',\n",
       " 'Cookies',\n",
       " 'Desktop',\n",
       " 'Documents',\n",
       " 'Downloads',\n",
       " 'Druckumgebung',\n",
       " 'Eigene Dateien',\n",
       " 'Favorites',\n",
       " 'HP',\n",
       " 'img_data',\n",
       " 'IntelGraphicsProfiles',\n",
       " 'lfs',\n",
       " 'Links',\n",
       " 'Lokale Einstellungen',\n",
       " 'MicrosoftEdgeBackups',\n",
       " 'MUGGE',\n",
       " 'Music',\n",
       " 'Netzwerkumgebung',\n",
       " 'NTUSER.DAT',\n",
       " 'ntuser.dat.LOG1',\n",
       " 'ntuser.dat.LOG2',\n",
       " 'NTUSER.DAT{03046c76-e593-11e9-b864-10f005a559af}.TM.blf',\n",
       " 'NTUSER.DAT{03046c76-e593-11e9-b864-10f005a559af}.TMContainer00000000000000000001.regtrans-ms',\n",
       " 'NTUSER.DAT{03046c76-e593-11e9-b864-10f005a559af}.TMContainer00000000000000000002.regtrans-ms',\n",
       " 'ntuser.ini',\n",
       " 'OneDrive',\n",
       " 'Pictures',\n",
       " 'PycharmProjects',\n",
       " 'Recent',\n",
       " 'Roaming',\n",
       " 'Saved Games',\n",
       " 'Searches',\n",
       " 'SendTo',\n",
       " 'Startmenü',\n",
       " 'Untitled.ipynb',\n",
       " 'Untitled1.ipynb',\n",
       " 'Videos',\n",
       " 'Vorlagen']"
      ]
     },
     "execution_count": 11,
     "metadata": {},
     "output_type": "execute_result"
    }
   ],
   "source": [
    "os.listdir()"
   ]
  },
  {
   "cell_type": "code",
   "execution_count": null,
   "metadata": {},
   "outputs": [],
   "source": []
  }
 ],
 "metadata": {
  "kernelspec": {
   "display_name": "Python 3",
   "language": "python",
   "name": "python3"
  },
  "language_info": {
   "codemirror_mode": {
    "name": "ipython",
    "version": 3
   },
   "file_extension": ".py",
   "mimetype": "text/x-python",
   "name": "python",
   "nbconvert_exporter": "python",
   "pygments_lexer": "ipython3",
   "version": "3.7.6"
  }
 },
 "nbformat": 4,
 "nbformat_minor": 4
}
